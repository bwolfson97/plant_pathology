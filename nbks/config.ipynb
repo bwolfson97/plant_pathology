{
 "cells": [
  {
   "cell_type": "code",
   "execution_count": null,
   "id": "8e885e57",
   "metadata": {},
   "outputs": [],
   "source": [
    "#default_exp config"
   ]
  },
  {
   "cell_type": "markdown",
   "id": "e9af95e9",
   "metadata": {},
   "source": [
    "# Config\n",
    "\n",
    "> Configuration variables that are dependent on machine's file structure (like path to data). Used to run tests."
   ]
  },
  {
   "cell_type": "code",
   "execution_count": null,
   "id": "62185773",
   "metadata": {},
   "outputs": [],
   "source": [
    "#export\n",
    "from pathlib import Path"
   ]
  },
  {
   "cell_type": "code",
   "execution_count": null,
   "id": "39c2b9c4",
   "metadata": {},
   "outputs": [],
   "source": [
    "#export\n",
    "# Change to reflect your machine\n",
    "DATA_PATH = Path(\"/home/brandon/kaggle/plant_pathology/data/\")"
   ]
  },
  {
   "cell_type": "code",
   "execution_count": null,
   "id": "165cff48",
   "metadata": {},
   "outputs": [
    {
     "name": "stdout",
     "output_type": "stream",
     "text": [
      "Converted 00_utils.ipynb.\n",
      "Converted 01_dataset.ipynb.\n",
      "Converted 02_evaluate.ipynb.\n",
      "Converted 03_train.ipynb.\n",
      "Converted 04_generate_pseudo_labels.ipynb.\n",
      "Converted 05_self_knowledge_distillation.ipynb.\n",
      "Converted config.ipynb.\n",
      "Converted index.ipynb.\n"
     ]
    }
   ],
   "source": [
    "#hide\n",
    "from nbdev.export import notebook2script; notebook2script()"
   ]
  },
  {
   "cell_type": "code",
   "execution_count": null,
   "id": "34443bd4",
   "metadata": {},
   "outputs": [],
   "source": []
  }
 ],
 "metadata": {
  "kernelspec": {
   "display_name": "Python 3",
   "language": "python",
   "name": "python3"
  }
 },
 "nbformat": 4,
 "nbformat_minor": 5
}
