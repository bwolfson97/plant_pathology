{
 "cells": [
  {
   "cell_type": "code",
   "execution_count": null,
   "id": "f1c060eb",
   "metadata": {},
   "outputs": [],
   "source": [
    "#default_exp config"
   ]
  },
  {
   "cell_type": "markdown",
   "id": "65db7e9f",
   "metadata": {},
   "source": [
    "# Config\n",
    "\n",
    "> Configuration variables that are dependent on machine's file structure (like path to data). Used to run tests."
   ]
  },
  {
   "cell_type": "code",
   "execution_count": null,
   "id": "4e2b551f",
   "metadata": {},
   "outputs": [],
   "source": [
    "#export\n",
    "from pathlib import Path"
   ]
  },
  {
   "cell_type": "code",
   "execution_count": null,
   "id": "25c808ce",
   "metadata": {},
   "outputs": [],
   "source": [
    "#export\n",
    "# Change to reflect your machine\n",
    "DATA_PATH = Path(\"/home/brandon/kaggle/plant_pathology/data/\")"
   ]
  },
  {
   "cell_type": "code",
   "execution_count": null,
   "id": "8812095d",
   "metadata": {},
   "outputs": [
    {
     "name": "stdout",
     "output_type": "stream",
     "text": [
      "Converted 00_utils.ipynb.\n",
      "Converted 01_dataset.ipynb.\n",
      "Converted 02_evaluate.ipynb.\n",
      "Converted 03_train.ipynb.\n",
      "Converted 04_generate_pseudo_labels.ipynb.\n",
      "Converted 05_self_knowledge_distillation.ipynb.\n",
      "Converted config.ipynb.\n",
      "Converted index.ipynb.\n"
     ]
    }
   ],
   "source": [
    "#hide\n",
    "from nbdev.export import notebook2script; notebook2script()"
   ]
  },
  {
   "cell_type": "code",
   "execution_count": null,
   "id": "6b215a45",
   "metadata": {},
   "outputs": [],
   "source": [
    "\n"
   ]
  }
 ],
 "metadata": {
  "kernelspec": {
   "display_name": "Python 3",
   "language": "python",
   "name": "python3"
  }
 },
 "nbformat": 4,
 "nbformat_minor": 5
}
