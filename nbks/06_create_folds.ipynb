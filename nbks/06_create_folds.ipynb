{
 "cells": [
  {
   "cell_type": "code",
   "execution_count": null,
   "id": "0fce5fae",
   "metadata": {},
   "outputs": [],
   "source": [
    "#default_exp create_folds"
   ]
  },
  {
   "cell_type": "markdown",
   "id": "c18aedb1",
   "metadata": {},
   "source": [
    "# Create Cross Validation Folds\n",
    "\n",
    "> Script to create folds for 5-fold cross validation."
   ]
  },
  {
   "cell_type": "code",
   "execution_count": null,
   "id": "f9727e24",
   "metadata": {},
   "outputs": [],
   "source": [
    "#hide\n",
    "from nbdev.showdoc import *\n",
    "from plant_pathology.config import DATA_PATH"
   ]
  },
  {
   "cell_type": "code",
   "execution_count": null,
   "id": "eccf70b6",
   "metadata": {},
   "outputs": [],
   "source": [
    "#export\n",
    "from pathlib import Path\n",
    "import pandas as pd\n",
    "from sklearn.model_selection import StratifiedKFold\n",
    "from fastcore.script import call_parse, Param\n",
    "from fastcore.script import store_true, bool_arg"
   ]
  },
  {
   "cell_type": "markdown",
   "id": "4384b266",
   "metadata": {},
   "source": [
    "Since we have a small dataset, we will do **5-fold cross-validation** rather than the normal **hold-out set** based validation. This will provide us a more accurate idea of our model's generalization ability since it will be less influenced by the variance of any single split. Additionally, since the dataset is small, it won't be too compute-heavy to do this form of validation."
   ]
  },
  {
   "cell_type": "code",
   "execution_count": null,
   "id": "8367af41",
   "metadata": {},
   "outputs": [],
   "source": [
    "#export\n",
    "@call_parse\n",
    "def create_folds(\n",
    "    path:        Param(\"Path to train CSV\", Path), \n",
    "    print_stats: Param(\"Print class distributions across folds?\", store_true),\n",
    "    save: Param(\"Save CSV with added folds\", bool_arg)=True,\n",
    ") -> pd.DataFrame:\n",
    "    \"\"\"Saves train CSV at `path` with 5-fold CV splits added.\n",
    "    \n",
    "    Optionally, print class distribution across folds.\n",
    "    \"\"\"\n",
    "    # Load train CSV\n",
    "    df = pd.read_csv(path)\n",
    "    \n",
    "    # Shuffle rows\n",
    "    df = df.sample(frac=1.0, random_state=42).reset_index(drop=True)\n",
    "    \n",
    "    # Get class labels to stratify on\n",
    "    lbls = df.apply(lambda r: df.columns[r==1].item(), axis=1)\n",
    "    \n",
    "    # Create 5 folds\n",
    "    kf = StratifiedKFold(n_splits=5)\n",
    "    for fold, (_, val_idxs) in enumerate(kf.split(df, lbls.values)):\n",
    "        df.loc[val_idxs, \"fold\"] = fold\n",
    "        \n",
    "    if print_stats:\n",
    "        stats_df = df.groupby(\"fold\").describe()\n",
    "        print(\"Proportion of each class out of total examples in each fold:\")\n",
    "        print(stats_df.iloc[:, stats_df.columns.get_level_values(1) == \"mean\"])\n",
    "    \n",
    "    if save:\n",
    "        save_path = path.parent/\"train_folds.csv\"\n",
    "        df.to_csv(save_path, index=False)\n",
    "        print(f\"Saved to {save_path}\")\n",
    "        \n",
    "    return df"
   ]
  },
  {
   "cell_type": "code",
   "execution_count": null,
   "id": "992e9282",
   "metadata": {},
   "outputs": [
    {
     "name": "stdout",
     "output_type": "stream",
     "text": [
      "Proportion of each class out of total examples in each fold:\n",
      "       healthy multiple_diseases      rust      scab\n",
      "          mean              mean      mean      mean\n",
      "fold                                                \n",
      "0.0   0.282192          0.052055  0.342466  0.323288\n",
      "1.0   0.282967          0.049451  0.343407  0.324176\n",
      "2.0   0.285714          0.049451  0.340659  0.324176\n",
      "3.0   0.282967          0.049451  0.340659  0.326923\n",
      "4.0   0.282967          0.049451  0.340659  0.326923\n"
     ]
    },
    {
     "data": {
      "text/html": [
       "<div>\n",
       "<style scoped>\n",
       "    .dataframe tbody tr th:only-of-type {\n",
       "        vertical-align: middle;\n",
       "    }\n",
       "\n",
       "    .dataframe tbody tr th {\n",
       "        vertical-align: top;\n",
       "    }\n",
       "\n",
       "    .dataframe thead th {\n",
       "        text-align: right;\n",
       "    }\n",
       "</style>\n",
       "<table border=\"1\" class=\"dataframe\">\n",
       "  <thead>\n",
       "    <tr style=\"text-align: right;\">\n",
       "      <th></th>\n",
       "      <th>image_id</th>\n",
       "      <th>healthy</th>\n",
       "      <th>multiple_diseases</th>\n",
       "      <th>rust</th>\n",
       "      <th>scab</th>\n",
       "      <th>fold</th>\n",
       "    </tr>\n",
       "  </thead>\n",
       "  <tbody>\n",
       "    <tr>\n",
       "      <th>0</th>\n",
       "      <td>Train_1511</td>\n",
       "      <td>0</td>\n",
       "      <td>0</td>\n",
       "      <td>1</td>\n",
       "      <td>0</td>\n",
       "      <td>0.0</td>\n",
       "    </tr>\n",
       "    <tr>\n",
       "      <th>1</th>\n",
       "      <td>Train_1799</td>\n",
       "      <td>1</td>\n",
       "      <td>0</td>\n",
       "      <td>0</td>\n",
       "      <td>0</td>\n",
       "      <td>0.0</td>\n",
       "    </tr>\n",
       "    <tr>\n",
       "      <th>2</th>\n",
       "      <td>Train_135</td>\n",
       "      <td>1</td>\n",
       "      <td>0</td>\n",
       "      <td>0</td>\n",
       "      <td>0</td>\n",
       "      <td>0.0</td>\n",
       "    </tr>\n",
       "    <tr>\n",
       "      <th>3</th>\n",
       "      <td>Train_408</td>\n",
       "      <td>0</td>\n",
       "      <td>0</td>\n",
       "      <td>1</td>\n",
       "      <td>0</td>\n",
       "      <td>0.0</td>\n",
       "    </tr>\n",
       "    <tr>\n",
       "      <th>4</th>\n",
       "      <td>Train_1693</td>\n",
       "      <td>1</td>\n",
       "      <td>0</td>\n",
       "      <td>0</td>\n",
       "      <td>0</td>\n",
       "      <td>0.0</td>\n",
       "    </tr>\n",
       "  </tbody>\n",
       "</table>\n",
       "</div>"
      ],
      "text/plain": [
       "     image_id  healthy  multiple_diseases  rust  scab  fold\n",
       "0  Train_1511        0                  0     1     0   0.0\n",
       "1  Train_1799        1                  0     0     0   0.0\n",
       "2   Train_135        1                  0     0     0   0.0\n",
       "3   Train_408        0                  0     1     0   0.0\n",
       "4  Train_1693        1                  0     0     0   0.0"
      ]
     },
     "execution_count": null,
     "metadata": {},
     "output_type": "execute_result"
    }
   ],
   "source": [
    "create_folds(DATA_PATH/\"train.csv\", print_stats=True, save=False).head()"
   ]
  },
  {
   "cell_type": "code",
   "execution_count": null,
   "id": "bb8e6651",
   "metadata": {},
   "outputs": [
    {
     "name": "stdout",
     "output_type": "stream",
     "text": [
      "Converted 00_utils.ipynb.\n",
      "Converted 01_dataset.ipynb.\n",
      "Converted 02_evaluate.ipynb.\n",
      "Converted 03_train.ipynb.\n",
      "Converted 04_generate_pseudo_labels.ipynb.\n",
      "Converted 05_self_knowledge_distillation.ipynb.\n",
      "Converted 06_create_folds.ipynb.\n",
      "Converted config.ipynb.\n",
      "Converted index.ipynb.\n"
     ]
    }
   ],
   "source": [
    "#hide\n",
    "from nbdev.export import notebook2script; notebook2script()"
   ]
  },
  {
   "cell_type": "code",
   "execution_count": null,
   "id": "f14961da",
   "metadata": {},
   "outputs": [],
   "source": []
  }
 ],
 "metadata": {
  "kernelspec": {
   "display_name": "Python 3",
   "language": "python",
   "name": "python3"
  }
 },
 "nbformat": 4,
 "nbformat_minor": 5
}
