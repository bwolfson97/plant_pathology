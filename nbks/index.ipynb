{
 "cells": [
  {
   "cell_type": "code",
   "execution_count": null,
   "metadata": {},
   "outputs": [],
   "source": [
    "#hide\n",
    "from plant_pathology.all import *"
   ]
  },
  {
   "cell_type": "markdown",
   "metadata": {},
   "source": [
    "# Plant Pathology Classifier\n",
    "\n",
    "> A neural network classifies images of leaves as healthy or diseased!"
   ]
  },
  {
   "cell_type": "raw",
   "metadata": {},
   "source": [
    "<img alt=\"A picture of a leaf\" src=\"nbks/images/leaf.jpg\" width=\"700\" style=\"max-width: 700px\">\n"
   ]
  },
  {
   "cell_type": "markdown",
   "metadata": {},
   "source": [
    "Recently, I've been learning about [Fast.ai](https://docs.fast.ai/) and [PyTorch](https://pytorch.org/) in my free time and wanted to apply my knowledge. I'm trying to learn how to win Kaggle competitions, so I decided to build a model for the completed Kaggle [Plant Pathology Competition](https://www.kaggle.com/c/plant-pathology-2020-fgvc7/overview).\n",
    "\n",
    "I built this model using [Nbdev](https://nbdev.fast.ai/), which provides an [literate programming](https://en.wikipedia.org/wiki/Literate_programming) environment as originally envisioned by Donald Knuth. This means the notebooks in the `nbks` folder are the library's \"source code\". They get converted into regular python files, a full [documentation site](https://bwolfson97.github.io/plant_pathology/), and contain unit and functional test, all in one place."
   ]
  },
  {
   "cell_type": "markdown",
   "metadata": {},
   "source": [
    "## Install"
   ]
  },
  {
   "cell_type": "markdown",
   "metadata": {},
   "source": [
    "`pip install plant-pathology`"
   ]
  },
  {
   "cell_type": "markdown",
   "metadata": {},
   "source": [
    "## How to use"
   ]
  },
  {
   "cell_type": "markdown",
   "metadata": {},
   "source": [
    "### Inference example"
   ]
  },
  {
   "cell_type": "code",
   "execution_count": null,
   "metadata": {},
   "outputs": [
    {
     "data": {
      "text/html": [],
      "text/plain": [
       "<IPython.core.display.HTML object>"
      ]
     },
     "metadata": {},
     "output_type": "display_data"
    },
    {
     "data": {
      "text/html": [],
      "text/plain": [
       "<IPython.core.display.HTML object>"
      ]
     },
     "metadata": {},
     "output_type": "display_data"
    },
    {
     "data": {
      "text/plain": [
       "('rust', tensor(2), tensor([0.0456, 0.0402, 0.8795, 0.0347]))"
      ]
     },
     "execution_count": null,
     "metadata": {},
     "output_type": "execute_result"
    }
   ],
   "source": [
    "from plant_pathology.pretrained_models import get_model\n",
    "\n",
    "model = get_model(\"resnet18_2021-04-08\")\n",
    "prediction = model.predict(\"images/leaf.jpg\")\n",
    "prediction"
   ]
  },
  {
   "cell_type": "markdown",
   "metadata": {},
   "source": [
    "### Training"
   ]
  },
  {
   "cell_type": "markdown",
   "metadata": {},
   "source": [
    "### Run training script"
   ]
  },
  {
   "cell_type": "markdown",
   "metadata": {},
   "source": [
    "```\n",
    "❯ python -m plant_pathology.train -h\n",
    "usage: train.py [-h] [--epochs EPOCHS] [--lr LR] [--frz FRZ] [--pre PRE [PRE ...]] [--re RE] [--bs BS] [--smooth] [--arch ARCH] [--dump] [--log] [--save] [--mixup MIXUP] [--tta] [--fp16] [--do_eval] [--val_fold VAL_FOLD] [--pseudo PSEUDO] [--export]\n",
    "                path\n",
    "\n",
    "positional arguments:\n",
    "  path                 Path to data dir\n",
    "\n",
    "optional arguments:\n",
    "  -h, --help           show this help message and exit\n",
    "  --epochs EPOCHS      Number of unfrozen epochs (default: 1)\n",
    "  --lr LR              Initial learning rate (default: 0.0003)\n",
    "  --frz FRZ            Number of frozen epochs (default: 1)\n",
    "  --pre PRE [PRE ...]  Image presize (default: (682, 1024))\n",
    "  --re RE              Image resize (default: 256)\n",
    "  --bs BS              Batch size (default: 256)\n",
    "  --smooth             Label smoothing? (default: False)\n",
    "  --arch ARCH          Architecture (default: resnet18)\n",
    "  --dump               Don't train, just print model (default: False)\n",
    "  --log                Log w/ W&B (default: False)\n",
    "  --save               Save model based on RocAuc (default: False)\n",
    "  --mixup MIXUP        Mixup (0.4 is good) (default: 0.0)\n",
    "  --tta                Test-time augmentation (default: False)\n",
    "  --fp16               Mixed-precision training (default: False)\n",
    "  --do_eval            Evaluate model and save predictions CSV (default: False)\n",
    "  --val_fold VAL_FOLD  Don't go cross-validation, just do 1 fold (or pass 9 to train on all data)\n",
    "  --pseudo PSEUDO      Path to pseudo labels to train on\n",
    "  --export             Export learner(s) to export_val_on_{fold}.pkl (default: False)\n",
    "```"
   ]
  },
  {
   "cell_type": "markdown",
   "metadata": {},
   "source": [
    "## Testing\n",
    "\n",
    "To run all the tests in the notebooks in parallel, just run `nbdev_test_nbs` from the terminal! :)"
   ]
  },
  {
   "cell_type": "markdown",
   "metadata": {},
   "source": [
    "## Web App\n",
    "\n",
    "I deployed the classifier as a simple [web app](https://plant-pathology-classifier.herokuapp.com/) using [Streamlit](https://streamlit.io/) and [Heroku](https://www.heroku.com/). Note, it may take a few minutes to start up.\n",
    "\n",
    "The code for the app is [here](https://github.com/bwolfson97/plant_pathology_app)."
   ]
  },
  {
   "cell_type": "code",
   "execution_count": null,
   "metadata": {},
   "outputs": [
    {
     "name": "stdout",
     "output_type": "stream",
     "text": [
      "Converted 00_utils.ipynb.\n",
      "Converted 01_dataset.ipynb.\n",
      "Converted 02_evaluate.ipynb.\n",
      "Converted 03_train.ipynb.\n",
      "Converted 04_generate_pseudo_labels.ipynb.\n",
      "Converted 05_self_knowledge_distillation.ipynb.\n",
      "Converted 06_create_folds.ipynb.\n",
      "Converted 07_pretrained_models.ipynb.\n",
      "Converted config.ipynb.\n",
      "Converted index.ipynb.\n"
     ]
    }
   ],
   "source": [
    "#hide\n",
    "from nbdev.export import notebook2script; notebook2script()"
   ]
  },
  {
   "cell_type": "code",
   "execution_count": null,
   "metadata": {},
   "outputs": [],
   "source": []
  }
 ],
 "metadata": {
  "kernelspec": {
   "display_name": "Python 3",
   "language": "python",
   "name": "python3"
  }
 },
 "nbformat": 4,
 "nbformat_minor": 4
}
