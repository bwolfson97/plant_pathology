{
 "cells": [
  {
   "cell_type": "code",
   "execution_count": null,
   "id": "6bade171",
   "metadata": {},
   "outputs": [],
   "source": [
    "#default_exp pretrained_models"
   ]
  },
  {
   "cell_type": "markdown",
   "id": "0025eb4f",
   "metadata": {},
   "source": [
    "# Pretrained Models\n",
    "\n",
    "> A model zoo for to download and load pretrained models."
   ]
  },
  {
   "cell_type": "code",
   "execution_count": null,
   "id": "5864d761",
   "metadata": {},
   "outputs": [],
   "source": [
    "#hide\n",
    "from nbdev.showdoc import *"
   ]
  },
  {
   "cell_type": "markdown",
   "id": "c398ec7d",
   "metadata": {},
   "source": [
    "## Model Zoo"
   ]
  },
  {
   "cell_type": "markdown",
   "id": "9a550f7b",
   "metadata": {},
   "source": [
    "`MODELS` is a dictionary that maps model names to their url. `get_model` allows you to easily download a pretrained model (if it hasn't been downloaded already), from the `MODELS` dict. Then you can easily use it for inference by just passing in the path to an image file! :)"
   ]
  },
  {
   "cell_type": "code",
   "execution_count": null,
   "id": "dd267527",
   "metadata": {},
   "outputs": [],
   "source": [
    "#export\n",
    "MODELS = {\n",
    "    \"resnet18_2021-04-07\": \"\"\n",
    "}"
   ]
  },
  {
   "cell_type": "code",
   "execution_count": null,
   "id": "79506d20",
   "metadata": {},
   "outputs": [],
   "source": [
    "#export\n",
    "def get_model(model_name: str):\n",
    "    \"\"\"Downloads and builds pretrained model.\"\"\"\n",
    "    # TODO: Download file from URL and untar it\n",
    "    learner_state = MODELS[model_name]\n",
    "    \n",
    "    # TODO: Use load_learner to load pickle file and return learner"
   ]
  },
  {
   "cell_type": "code",
   "execution_count": null,
   "id": "54b7ca6b",
   "metadata": {},
   "outputs": [
    {
     "name": "stdout",
     "output_type": "stream",
     "text": [
      "Converted 00_utils.ipynb.\n",
      "Converted 01_dataset.ipynb.\n",
      "Converted 02_evaluate.ipynb.\n",
      "Converted 03_train.ipynb.\n",
      "Converted 04_generate_pseudo_labels.ipynb.\n",
      "Converted 05_self_knowledge_distillation.ipynb.\n",
      "Converted 06_create_folds.ipynb.\n",
      "Converted 07_pretrained_models.ipynb.\n",
      "Converted config.ipynb.\n",
      "Converted index.ipynb.\n"
     ]
    }
   ],
   "source": [
    "#hide\n",
    "from nbdev.export import notebook2script; notebook2script()"
   ]
  },
  {
   "cell_type": "code",
   "execution_count": null,
   "id": "997ebe16",
   "metadata": {},
   "outputs": [],
   "source": []
  }
 ],
 "metadata": {
  "kernelspec": {
   "display_name": "Python 3",
   "language": "python",
   "name": "python3"
  }
 },
 "nbformat": 4,
 "nbformat_minor": 5
}
