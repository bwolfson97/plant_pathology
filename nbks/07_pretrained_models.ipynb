{
 "cells": [
  {
   "cell_type": "code",
   "execution_count": null,
   "id": "6bade171",
   "metadata": {},
   "outputs": [],
   "source": [
    "#default_exp pretrained_models"
   ]
  },
  {
   "cell_type": "markdown",
   "id": "0025eb4f",
   "metadata": {},
   "source": [
    "# Pretrained Models\n",
    "\n",
    "> A model zoo for to download and load pretrained models."
   ]
  },
  {
   "cell_type": "code",
   "execution_count": null,
   "id": "5864d761",
   "metadata": {},
   "outputs": [],
   "source": [
    "#hide\n",
    "from nbdev.showdoc import *"
   ]
  },
  {
   "cell_type": "code",
   "execution_count": null,
   "id": "43efc42e",
   "metadata": {},
   "outputs": [],
   "source": [
    "#export\n",
    "from fastai.data.external import untar_data\n",
    "from fastai.learner import load_learner\n",
    "from fastcore.test import ExceptionExpected"
   ]
  },
  {
   "cell_type": "markdown",
   "id": "c398ec7d",
   "metadata": {},
   "source": [
    "## Model Zoo"
   ]
  },
  {
   "cell_type": "markdown",
   "id": "9a550f7b",
   "metadata": {},
   "source": [
    "`MODELS` is a dictionary that maps model names to a url of the tarred model. `get_model` allows you to easily download a pretrained model (if it hasn't been downloaded already), from the `MODELS` dict. Then you can easily use it for inference by just passing in the path to an image file! :)"
   ]
  },
  {
   "cell_type": "code",
   "execution_count": null,
   "id": "dd267527",
   "metadata": {},
   "outputs": [],
   "source": [
    "#export\n",
    "MODELS = {\n",
    "    \"resnet18_2021-04-07\": \"GitHub Release URL to pkl file\"\n",
    "}"
   ]
  },
  {
   "cell_type": "code",
   "execution_count": null,
   "id": "79506d20",
   "metadata": {},
   "outputs": [],
   "source": [
    "#export\n",
    "def get_model(model_name: str):\n",
    "    \"\"\"Downloads and builds pretrained model.\"\"\"\n",
    "    try:\n",
    "        url = MODELS[model_name]\n",
    "    except KeyError:\n",
    "        raise KeyError(\"Invalid model name. No such pretrained model exists.\")\n",
    "        \n",
    "    pickle_file = untar_data(url, fname=model_name)\n",
    "    return load_learner(pickle_file)"
   ]
  },
  {
   "cell_type": "code",
   "execution_count": null,
   "id": "5ac63a48",
   "metadata": {},
   "outputs": [],
   "source": [
    "#hide\n",
    "# Test invalid model name\n",
    "with ExceptionExpected(ex=KeyError): get_model(\"invalid_model_name\")"
   ]
  },
  {
   "cell_type": "code",
   "execution_count": null,
   "id": "54b7ca6b",
   "metadata": {},
   "outputs": [
    {
     "name": "stdout",
     "output_type": "stream",
     "text": [
      "Converted 00_utils.ipynb.\n",
      "Converted 01_dataset.ipynb.\n",
      "Converted 02_evaluate.ipynb.\n",
      "Converted 03_train.ipynb.\n",
      "Converted 04_generate_pseudo_labels.ipynb.\n",
      "Converted 05_self_knowledge_distillation.ipynb.\n",
      "Converted 06_create_folds.ipynb.\n",
      "Converted 07_pretrained_models.ipynb.\n",
      "Converted config.ipynb.\n",
      "Converted index.ipynb.\n"
     ]
    }
   ],
   "source": [
    "#hide\n",
    "from nbdev.export import notebook2script; notebook2script()"
   ]
  },
  {
   "cell_type": "code",
   "execution_count": null,
   "id": "d05bc6f9",
   "metadata": {},
   "outputs": [],
   "source": []
  }
 ],
 "metadata": {
  "kernelspec": {
   "display_name": "Python 3",
   "language": "python",
   "name": "python3"
  }
 },
 "nbformat": 4,
 "nbformat_minor": 5
}
