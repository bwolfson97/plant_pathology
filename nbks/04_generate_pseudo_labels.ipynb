{
 "cells": [
  {
   "cell_type": "code",
   "execution_count": null,
   "metadata": {},
   "outputs": [],
   "source": [
    "#default_exp generate_pseudo_labels"
   ]
  },
  {
   "cell_type": "markdown",
   "metadata": {},
   "source": [
    "# Generate Pseudo Labels\n",
    "\n",
    "> Script to generate pseudo labels for test set."
   ]
  },
  {
   "cell_type": "code",
   "execution_count": null,
   "metadata": {},
   "outputs": [],
   "source": [
    "#hide\n",
    "from nbdev.showdoc import *\n",
    "import pandas as pd"
   ]
  },
  {
   "cell_type": "code",
   "execution_count": null,
   "metadata": {},
   "outputs": [],
   "source": [
    "#export\n",
    "from fastcore.all import *\n",
    "\n",
    "from plant_pathology.utils import get_averaged_preds"
   ]
  },
  {
   "cell_type": "markdown",
   "metadata": {},
   "source": [
    "## Generate Psuedo Labels"
   ]
  },
  {
   "cell_type": "code",
   "execution_count": null,
   "metadata": {},
   "outputs": [],
   "source": [
    "#export\n",
    "@call_parse\n",
    "def generate_pseudo_labels(\n",
    "    path:   Param(\"Directory of prediction CSVs to average\", Path) = \".\",\n",
    "    name:   Param(\"File name to save as\", str) = \"pseudo_labels.csv\",\n",
    "    thresh: Param(\"Min probabilty for pseudo label\", float) = 0.95,\n",
    ") -> Path:\n",
    "    \"\"\"Generates pseudo labels and saves in path dir.\"\"\"\n",
    "    avg_preds_df = get_averaged_preds(path)\n",
    "\n",
    "    # One-hot encode highly confident predictions\n",
    "    high_confidence_preds_mask = avg_preds_df >= thresh\n",
    "    avg_preds_df[high_confidence_preds_mask] = 1.0\n",
    "    avg_preds_df[~high_confidence_preds_mask] = 0.0\n",
    "\n",
    "    # Only keep predictions model was highly confident on\n",
    "    pseudo_labels = avg_preds_df[high_confidence_preds_mask.any(axis=1)]\n",
    "\n",
    "    pseudo_labels.to_csv(path / name)\n",
    "    return path / name"
   ]
  },
  {
   "cell_type": "code",
   "execution_count": null,
   "metadata": {},
   "outputs": [
    {
     "data": {
      "text/html": [
       "<div>\n",
       "<style scoped>\n",
       "    .dataframe tbody tr th:only-of-type {\n",
       "        vertical-align: middle;\n",
       "    }\n",
       "\n",
       "    .dataframe tbody tr th {\n",
       "        vertical-align: top;\n",
       "    }\n",
       "\n",
       "    .dataframe thead th {\n",
       "        text-align: right;\n",
       "    }\n",
       "</style>\n",
       "<table border=\"1\" class=\"dataframe\">\n",
       "  <thead>\n",
       "    <tr style=\"text-align: right;\">\n",
       "      <th></th>\n",
       "      <th>image_id</th>\n",
       "      <th>healthy</th>\n",
       "      <th>multiple_diseases</th>\n",
       "      <th>rust</th>\n",
       "      <th>scab</th>\n",
       "    </tr>\n",
       "  </thead>\n",
       "  <tbody>\n",
       "    <tr>\n",
       "      <th>0</th>\n",
       "      <td>Test_0</td>\n",
       "      <td>0.0</td>\n",
       "      <td>0.0</td>\n",
       "      <td>1.0</td>\n",
       "      <td>0.0</td>\n",
       "    </tr>\n",
       "    <tr>\n",
       "      <th>1</th>\n",
       "      <td>Test_1</td>\n",
       "      <td>0.0</td>\n",
       "      <td>0.0</td>\n",
       "      <td>1.0</td>\n",
       "      <td>0.0</td>\n",
       "    </tr>\n",
       "    <tr>\n",
       "      <th>2</th>\n",
       "      <td>Test_10</td>\n",
       "      <td>0.0</td>\n",
       "      <td>0.0</td>\n",
       "      <td>1.0</td>\n",
       "      <td>0.0</td>\n",
       "    </tr>\n",
       "    <tr>\n",
       "      <th>3</th>\n",
       "      <td>Test_100</td>\n",
       "      <td>0.0</td>\n",
       "      <td>0.0</td>\n",
       "      <td>0.0</td>\n",
       "      <td>1.0</td>\n",
       "    </tr>\n",
       "    <tr>\n",
       "      <th>4</th>\n",
       "      <td>Test_1000</td>\n",
       "      <td>0.0</td>\n",
       "      <td>0.0</td>\n",
       "      <td>1.0</td>\n",
       "      <td>0.0</td>\n",
       "    </tr>\n",
       "  </tbody>\n",
       "</table>\n",
       "</div>"
      ],
      "text/plain": [
       "    image_id  healthy  multiple_diseases  rust  scab\n",
       "0     Test_0      0.0                0.0   1.0   0.0\n",
       "1     Test_1      0.0                0.0   1.0   0.0\n",
       "2    Test_10      0.0                0.0   1.0   0.0\n",
       "3   Test_100      0.0                0.0   0.0   1.0\n",
       "4  Test_1000      0.0                0.0   1.0   0.0"
      ]
     },
     "execution_count": null,
     "metadata": {},
     "output_type": "execute_result"
    }
   ],
   "source": [
    "#slow\n",
    "#hide\n",
    "path = Path(\"../exps/baseline/\")\n",
    "pseudo_labels = generate_pseudo_labels(path, name=\"TESTING_PSEUDO_LABELS.csv\")\n",
    "df = pd.read_csv(pseudo_labels); df.head()"
   ]
  },
  {
   "cell_type": "code",
   "execution_count": null,
   "metadata": {},
   "outputs": [],
   "source": [
    "#slow\n",
    "#hide\n",
    "\n",
    "# Test column names are correct\n",
    "assert (df.columns == [\"image_id\", \"healthy\", \"multiple_diseases\", \"rust\", \"scab\"]).all()\n",
    "\n",
    "# Test that each row sums to 1\n",
    "assert (df.sum(axis=1) == 1.0).all()\n",
    "\n",
    "pseudo_labels.unlink()"
   ]
  },
  {
   "cell_type": "code",
   "execution_count": null,
   "metadata": {},
   "outputs": [],
   "source": [
    "#hide\n",
    "from nbdev.export import notebook2script; notebook2script()"
   ]
  }
 ],
 "metadata": {
  "kernelspec": {
   "display_name": "Python 3",
   "language": "python",
   "name": "python3"
  }
 },
 "nbformat": 4,
 "nbformat_minor": 4
}
