{
 "cells": [
  {
   "cell_type": "code",
   "execution_count": null,
   "id": "6bade171",
   "metadata": {},
   "outputs": [],
   "source": [
    "#default_exp pretrained_models"
   ]
  },
  {
   "cell_type": "markdown",
   "id": "0025eb4f",
   "metadata": {},
   "source": [
    "# Pretrained Models\n",
    "\n",
    "> A model zoo for to download and load pretrained models."
   ]
  },
  {
   "cell_type": "code",
   "execution_count": null,
   "id": "5864d761",
   "metadata": {},
   "outputs": [],
   "source": [
    "#hide\n",
    "from nbdev.showdoc import *\n",
    "from fastcore.test import ExceptionExpected, test_eq, test_close"
   ]
  },
  {
   "cell_type": "code",
   "execution_count": null,
   "id": "43efc42e",
   "metadata": {},
   "outputs": [],
   "source": [
    "#export\n",
    "import numpy as np\n",
    "from fastai.vision.all import *"
   ]
  },
  {
   "cell_type": "markdown",
   "id": "c398ec7d",
   "metadata": {},
   "source": [
    "## Model Zoo"
   ]
  },
  {
   "cell_type": "markdown",
   "id": "9a550f7b",
   "metadata": {},
   "source": [
    "`MODELS` is a dictionary that maps model names to a url of the tarred model. `get_model` allows you to easily download a pretrained model (if it hasn't been downloaded already), from the `MODELS` dict. Then you can easily use it for inference by just passing in the path to an image file! :)"
   ]
  },
  {
   "cell_type": "code",
   "execution_count": null,
   "id": "dd267527",
   "metadata": {},
   "outputs": [],
   "source": [
    "#export\n",
    "MODELS = {\n",
    "    \"resnet18_2021-04-08\": \"https://github.com/bwolfson97/plant_pathology/releases/download/v0.1.1-alpha/resnet18_2021-04-08.tar.gz\"\n",
    "}"
   ]
  },
  {
   "cell_type": "markdown",
   "id": "81369755",
   "metadata": {},
   "source": [
    "Here's a list of the names of the pretrained models that you can pass to `get_model`."
   ]
  },
  {
   "cell_type": "code",
   "execution_count": null,
   "id": "ee70f7f7",
   "metadata": {},
   "outputs": [
    {
     "data": {
      "text/plain": [
       "['resnet18_2021-04-08']"
      ]
     },
     "execution_count": null,
     "metadata": {},
     "output_type": "execute_result"
    }
   ],
   "source": [
    "list(MODELS.keys())"
   ]
  },
  {
   "cell_type": "code",
   "execution_count": null,
   "id": "79506d20",
   "metadata": {},
   "outputs": [],
   "source": [
    "#export\n",
    "def get_model(model_name: str):\n",
    "    \"\"\"Downloads and builds pretrained model.\n",
    "\n",
    "    `model_name` must be in `MODELS` dict.\n",
    "    \"\"\"\n",
    "    try:\n",
    "        url = MODELS[model_name]\n",
    "    except KeyError:\n",
    "        raise KeyError(f\"Invalid model name. Received: {model_name}\")\n",
    "\n",
    "    pickle_file = untar_data(url)\n",
    "    return load_learner(pickle_file)"
   ]
  },
  {
   "cell_type": "code",
   "execution_count": null,
   "id": "5ac63a48",
   "metadata": {},
   "outputs": [],
   "source": [
    "#hide\n",
    "# Test invalid model name\n",
    "with ExceptionExpected(ex=KeyError): get_model(\"invalid_model_name\")"
   ]
  },
  {
   "cell_type": "markdown",
   "id": "edbb4603",
   "metadata": {},
   "source": [
    "## Prediction Wrapper "
   ]
  },
  {
   "cell_type": "markdown",
   "id": "6ac57785",
   "metadata": {},
   "source": [
    "`predict_leaf` is a simple wrapper over `Learner`'s `predict` that decodes the class probabilities for the user."
   ]
  },
  {
   "cell_type": "code",
   "execution_count": null,
   "id": "a0e0cfd8",
   "metadata": {},
   "outputs": [],
   "source": [
    "#export \n",
    "@patch\n",
    "def predict_leaf(self: Learner, image, decimals: int = 2):\n",
    "    \"\"\"Predict on image and return predicted class and decoded probabilities.\n",
    "\n",
    "    Rounds probabilities to `decimals` decimal places.\n",
    "    \"\"\"\n",
    "    predicted_class, _, probabilities = self.predict(image)\n",
    "\n",
    "    # Round probabilities\n",
    "    probabilities = np.around(probabilities.tolist(), decimals=decimals)\n",
    "\n",
    "    # Decode probabilities using class names\n",
    "    decoded_probabilities = dict(zip(self.dls.vocab, probabilities))\n",
    "\n",
    "    # Format results\n",
    "    return {\n",
    "        \"predicted_class\": predicted_class,\n",
    "        \"probabilities\": decoded_probabilities\n",
    "    }"
   ]
  },
  {
   "cell_type": "code",
   "execution_count": null,
   "id": "40a5787f",
   "metadata": {},
   "outputs": [
    {
     "data": {
      "text/html": [],
      "text/plain": [
       "<IPython.core.display.HTML object>"
      ]
     },
     "metadata": {},
     "output_type": "display_data"
    },
    {
     "data": {
      "text/plain": [
       "{'predicted_class': 'rust',\n",
       " 'probabilities': {'healthy': 0.05,\n",
       "  'multiple_diseases': 0.04,\n",
       "  'rust': 0.88,\n",
       "  'scab': 0.03}}"
      ]
     },
     "execution_count": null,
     "metadata": {},
     "output_type": "execute_result"
    }
   ],
   "source": [
    "#slow\n",
    "model = get_model(\"resnet18_2021-04-08\")\n",
    "prediction = model.predict_leaf(\"../nbks/images/leaf.jpg\")\n",
    "prediction"
   ]
  },
  {
   "cell_type": "code",
   "execution_count": null,
   "id": "f15037c9",
   "metadata": {},
   "outputs": [],
   "source": [
    "#slow\n",
    "#hide\n",
    "# Test prediction contains proper keys\n",
    "test_eq(prediction.keys(), [\"predicted_class\", \"probabilities\"])\n",
    "\n",
    "# Test probabilites add to ~1.0 (~ b/c they are rounded)\n",
    "test_close(sum(prediction[\"probabilities\"].values()), 1.0, eps=0.01)"
   ]
  },
  {
   "cell_type": "code",
   "execution_count": null,
   "id": "54b7ca6b",
   "metadata": {},
   "outputs": [
    {
     "name": "stdout",
     "output_type": "stream",
     "text": [
      "Converted 07_pretrained_models.ipynb.\n"
     ]
    }
   ],
   "source": [
    "#hide\n",
    "from nbdev.export import notebook2script; notebook2script(\"07_pretrained_models.ipynb\")"
   ]
  },
  {
   "cell_type": "code",
   "execution_count": null,
   "id": "e217a327",
   "metadata": {},
   "outputs": [],
   "source": []
  }
 ],
 "metadata": {
  "kernelspec": {
   "display_name": "Python 3",
   "language": "python",
   "name": "python3"
  }
 },
 "nbformat": 4,
 "nbformat_minor": 5
}
