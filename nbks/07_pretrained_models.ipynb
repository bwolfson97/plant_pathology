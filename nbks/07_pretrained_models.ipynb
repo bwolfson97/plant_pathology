{
 "cells": [
  {
   "cell_type": "code",
   "execution_count": null,
   "id": "6bade171",
   "metadata": {},
   "outputs": [],
   "source": [
    "#default_exp pretrained_models"
   ]
  },
  {
   "cell_type": "markdown",
   "id": "0025eb4f",
   "metadata": {},
   "source": [
    "# Pretrained Models\n",
    "\n",
    "> A model zoo for to download and load pretrained models."
   ]
  },
  {
   "cell_type": "code",
   "execution_count": null,
   "id": "5864d761",
   "metadata": {},
   "outputs": [],
   "source": [
    "#hide\n",
    "from nbdev.showdoc import *"
   ]
  },
  {
   "cell_type": "code",
   "execution_count": null,
   "id": "374f9f98",
   "metadata": {},
   "outputs": [],
   "source": [
    "#export\n",
    "from torch.utils.model_zoo import load_url"
   ]
  },
  {
   "cell_type": "markdown",
   "id": "c398ec7d",
   "metadata": {},
   "source": [
    "## Model Zoo"
   ]
  },
  {
   "cell_type": "code",
   "execution_count": null,
   "id": "dd267527",
   "metadata": {},
   "outputs": [],
   "source": [
    "#export\n",
    "models = {} "
   ]
  },
  {
   "cell_type": "code",
   "execution_count": null,
   "id": "79506d20",
   "metadata": {},
   "outputs": [],
   "source": [
    "#export\n",
    "def get_model(model_name: str):\n",
    "    \"\"\"Downloads and builds pretrained model.\"\"\"\n",
    "    pass"
   ]
  },
  {
   "cell_type": "code",
   "execution_count": null,
   "id": "54b7ca6b",
   "metadata": {},
   "outputs": [
    {
     "name": "stdout",
     "output_type": "stream",
     "text": [
      "Converted 00_utils.ipynb.\n",
      "Converted 01_dataset.ipynb.\n",
      "Converted 02_evaluate.ipynb.\n",
      "Converted 03_train.ipynb.\n",
      "Converted 04_generate_pseudo_labels.ipynb.\n",
      "Converted 05_self_knowledge_distillation.ipynb.\n",
      "Converted 06_create_folds.ipynb.\n",
      "Converted 07_pretrained_models.ipynb.\n",
      "Converted config.ipynb.\n",
      "Converted index.ipynb.\n"
     ]
    }
   ],
   "source": [
    "#hide\n",
    "from nbdev.export import notebook2script; notebook2script()"
   ]
  }
 ],
 "metadata": {
  "kernelspec": {
   "display_name": "Python 3",
   "language": "python",
   "name": "python3"
  }
 },
 "nbformat": 4,
 "nbformat_minor": 5
}
